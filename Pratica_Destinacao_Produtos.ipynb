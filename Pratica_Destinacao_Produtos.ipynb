{
  "cells": [
    {
      "cell_type": "markdown",
      "metadata": {
        "id": "qDPM4byI4rXz"
      },
      "source": [
        "# Aula prática: Destinação de Produtos à Fabricas\n",
        "<sup>Exemplo do capítulo 8.3 do livro `Introdução à Pesquisa Operacional` de `Hillier e Lieberman`.</sup>"
      ]
    },
    {
      "cell_type": "markdown",
      "metadata": {
        "id": "17Ur_xiu43Om"
      },
      "source": [
        "## Exercício 1"
      ]
    },
    {
      "cell_type": "markdown",
      "metadata": {
        "id": "S_ECUHr85U0V"
      },
      "source": [
        "### Descrição do problema\n",
        "A Cia. Produtos Melhores decidiu iniciar a produção de quatro produtos novos usando três fábricas que, no momento, têm excesso de capacidade produtiva. Os produtos requerem um esforço de produção comparável por unidade, de modo que a capacidade produtiva disponível das fábricas seja medida pelo número de unidades de qualquer produto que possa ser produzido diariamente, conforme dado na tabela 1. A tabela 2 fornece a taxa de produção diária necessária para atender às vendas projetadas. Cada fábrica é capaz de produzir qualquer um desses produtos, exceto a Fábrica 2, que não pode fabricar o produto 3. Os custos variáveis por unidade de cada produto diferem de fábrica para fábrica, conforme a tabela 3.\n",
        "\n",
        "Tabela 1: Capacidade de produção disponível, por unidade do produto\n",
        "\n",
        "| | Fábrica 1 | Fábrica 2 | Fábrica 3 |\n",
        "|:---|:---:|:---:|:---:|\n",
        "| Capacidade disponível | 75 | 75 | 45 |\n",
        "\n",
        "Tabela 2: Demanda de produção diária\n",
        "\n",
        "| | Produto 1 | Produto 2 | Produto 3 | Produto 4 |\n",
        "|:---|:---:|:---:|:---:|:---:|\n",
        "| Demanda | 20 | 30 | 30 | 40 |\n",
        "\n",
        "Tabela 3: Custo unitário por produto\n",
        "\n",
        "| | Produto 1 | Produto 2 | Produto 3 | Produto 4 |\n",
        "|:---|:---:|:---:|:---:|:---:|\n",
        "| Fábrica 1 | 41 | 27 | 28 | 24 |\n",
        "| Fábrica 2 | 40 | 29 | - | 23 |\n",
        "| Fábrica 3 | 37 | 30 | 27 | 21 |\n",
        "\n",
        "A gerência precisa tomar uma decisão sobre como dividir a fabricação dos produtos entre as fábricas, e decidiu permitir a divisão da produção de um mesmo produto em mais de uma fábrica.\n",
        "\n",
        "Escreva um modelo para determinar quais fábricas produzirão quais produtos e a que custo total."
      ]
    },
    {
      "cell_type": "markdown",
      "metadata": {
        "id": "r0sGHJD97MIz"
      },
      "source": [
        "### Resolução"
      ]
    },
    {
      "cell_type": "code",
      "execution_count": null,
      "metadata": {
        "id": "Fm0Dc8uR7Qsz",
        "outputId": "2a1c8ba0-14bb-4dd2-f999-94e4e6077cad",
        "colab": {
          "base_uri": "https://localhost:8080/"
        }
      },
      "outputs": [
        {
          "output_type": "stream",
          "name": "stdout",
          "text": [
            "Requirement already satisfied: mip in /usr/local/lib/python3.10/dist-packages (1.15.0)\n",
            "Requirement already satisfied: cffi==1.15.* in /usr/local/lib/python3.10/dist-packages (from mip) (1.15.1)\n",
            "Requirement already satisfied: pycparser in /usr/local/lib/python3.10/dist-packages (from cffi==1.15.*->mip) (2.21)\n"
          ]
        }
      ],
      "source": [
        "# instalação e importação do pacote mip\n",
        "!pip install mip\n",
        "from mip import *\n",
        "\n",
        "# funcões usadas posteriormente:\n",
        "model = Model(sense=MINIMIZE, solver_name=CBC)\n",
        "\n",
        "x = {i: model.add_var(var_type=INTEGER, name=f'x_{i}', lb=0.0) for i in range(1,12)}\n",
        "\n",
        "model.objective = 41*x[1]+27*x[2]+28*x[3]+24*x[4]+40*x[5]+29*x[6]+23*x[7]+37*x[8]+30*x[9]+27*x[10]+21*x[11]\n",
        "\n",
        "model += x[1]+x[2]+x[3]+x[4] <= 75\n",
        "\n",
        "model += x[5]+x[6]+x[7] <= 75\n",
        "\n",
        "model += x[8]+x[9]+x[10]+x[11] <= 45\n",
        "\n",
        "model += x[1]+x[5]+x[8] >= 20\n",
        "\n",
        "model += x[2]+x[6]+x[9] >= 30\n",
        "\n",
        "model += x[3]+x[10] >= 30\n",
        "\n",
        "model += x[4]+x[7]+x[11] >= 40\n",
        "\n",
        "\n",
        "# resolve o modelo e mostra os valores das variáveis\n",
        "def solve(model):\n",
        "  status = model.optimize()\n",
        "\n",
        "  print(\"Status = \", status)\n",
        "  print(f\"Solution value  = {model.objective_value:.2f}\\n\")\n",
        "\n",
        "  print(\"Solution:\")\n",
        "  for v in model.vars:\n",
        "      print(f\"{v.name} = {v.x:.2f}\")\n",
        "\n",
        "\n",
        "# salva modelo em arquivo lp, e mostra o conteúdo\n",
        "def save(model, filename):\n",
        "  model.write(filename) # salva modelo em arquivo\n",
        "  with open(filename, \"r\") as f: # lê e exibe conteúdo do arquivo\n",
        "    print(f.read())"
      ]
    },
    {
      "cell_type": "code",
      "execution_count": null,
      "metadata": {
        "id": "hHo6N8Pw7Zpf",
        "outputId": "b5943db4-a46c-49c2-f6de-c039647e18c4",
        "colab": {
          "base_uri": "https://localhost:8080/"
        }
      },
      "outputs": [
        {
          "output_type": "stream",
          "name": "stdout",
          "text": [
            "Status =  OptimizationStatus.OPTIMAL\n",
            "Solution value  = 3260.00\n",
            "\n",
            "Solution:\n",
            "x_1 = 0.00\n",
            "x_2 = 30.00\n",
            "x_3 = 30.00\n",
            "x_4 = 0.00\n",
            "x_5 = 0.00\n",
            "x_6 = 0.00\n",
            "x_7 = 15.00\n",
            "x_8 = 20.00\n",
            "x_9 = 0.00\n",
            "x_10 = 0.00\n",
            "x_11 = 25.00\n"
          ]
        }
      ],
      "source": [
        "solve(model)"
      ]
    },
    {
      "cell_type": "markdown",
      "metadata": {
        "id": "aMs1wHIugRae"
      },
      "source": [
        "## Exercício 2\n",
        "\n",
        "Refaça o modelo anterior, dessa vez impedindo a divisão de produtos entre fábricas. Ou seja, cada produto deve ser integralmente produzido em uma única fábrica, para eliminar custos ocultos associados à divisão da produção. A cada fábrica deve ser destinado pelo menos um produto."
      ]
    },
    {
      "cell_type": "markdown",
      "metadata": {
        "id": "gKJj1JLUgRag"
      },
      "source": [
        "### Resolução"
      ]
    },
    {
      "cell_type": "code",
      "execution_count": null,
      "metadata": {
        "id": "92okSArZgRah",
        "outputId": "2dc4bfd1-384a-4ab4-f9ca-2357ac9b5462",
        "colab": {
          "base_uri": "https://localhost:8080/"
        }
      },
      "outputs": [
        {
          "output_type": "stream",
          "name": "stdout",
          "text": [
            "\\Problem name: \n",
            "\n",
            "Minimize\n",
            "OBJROW: 820 x_1 + 810 x_2 + 840 x_3 + 960 x_4 + 800 x_5 + 870 x_6 + 920 x_7 + 740 x_8 + 900 x_9 + 810 x_10\n",
            " + 840 x_11\n",
            "Subject To\n",
            "constr(0):  20 x_1 + 30 x_2 + 30 x_3 + 40 x_4 <= 75\n",
            "constr(1):  20 x_5 + 30 x_6 + 40 x_7 <= 75\n",
            "constr(2):  20 x_8 + 30 x_9 + 30 x_10 + 40 x_11 <= 45\n",
            "constr(3):  x_1 + x_2 + x_3 + x_4 >= 1\n",
            "constr(4):  x_5 + x_6 + x_7 >= 1\n",
            "constr(5):  x_8 + x_9 + x_10 + x_11 >= 1\n",
            "constr(6):  x_1 + x_5 + x_8 = 1\n",
            "constr(7):  x_2 + x_6 + x_9 = 1\n",
            "constr(8):  x_3 + x_10 = 1\n",
            "constr(9):  x_4 + x_7 + x_11 = 1\n",
            "Bounds\n",
            "Integers\n",
            "x_1 x_2 x_3 x_4 x_5 x_6 x_7 x_8 x_9 x_10 \n",
            "x_11 \n",
            "End\n",
            "\n"
          ]
        }
      ],
      "source": [
        "model = Model(sense=maximize, solver_name=CBC)\n",
        "\n",
        "x = {i: model.add_var(var_type=INTEGER, name=f'x_{i}', lb=0.0) for i in range(1,12)}\n",
        "\n",
        "model.objective = 41*20*x[1]+27*30*x[2]+28*30*x[3]+24*40*x[4]+40*20*x[5]+29*30*x[6]+23*40*x[7]+37*20*x[8]+30*30*x[9]+27*30*x[10]+21*40*x[11]\n",
        "\n",
        "model += 20*x[1]+30*x[2]+30*x[3]+40*x[4] <= 75\n",
        "\n",
        "model += 20*x[5]+30*x[6]+40*x[7] <= 75\n",
        "\n",
        "model += 20*x[8]+30*x[9]+30*x[10]+40*x[11] <= 45\n",
        "\n",
        "model += x[1]+x[2]+x[3]+x[4] >= 1\n",
        "\n",
        "model += x[5]+x[6]+x[7] >= 1\n",
        "\n",
        "model += x[8]+x[9]+x[10]+x[11] >= 1\n",
        "\n",
        "model += x[1]+x[5]+x[8] == 1\n",
        "\n",
        "model += x[2]+x[6]+x[9] == 1\n",
        "\n",
        "model += x[3]+x[10] == 1\n",
        "\n",
        "model += x[4]+x[7]+x[11] == 1\n",
        "\n",
        "# resolve o modelo e mostra os valores das variáveis\n",
        "def solve(model):\n",
        "  status = model.optimize()\n",
        "\n",
        "  print(\"Status = \", status)\n",
        "  print(f\"Solution value  = {model.objective_value:.2f}\\n\")\n",
        "\n",
        "  print(\"Solution:\")\n",
        "  for v in model.vars:\n",
        "      print(f\"{v.name} = {v.x:.2f}\")\n",
        "\n",
        "\n",
        "# salva modelo em arquivo lp, e mostra o conteúdo\n",
        "def save(model, filename):\n",
        "  model.write(filename) # salva modelo em arquivo\n",
        "  with open(filename, \"r\") as f: # lê e exibe conteúdo do arquivo\n",
        "    print(f.read())\n",
        "\n",
        "save(model, \"model2.lp\")"
      ]
    },
    {
      "cell_type": "code",
      "execution_count": null,
      "metadata": {
        "id": "D0hi2a4UgRai",
        "outputId": "31b239bb-0d45-4b7a-a626-3d5706e42b1d",
        "colab": {
          "base_uri": "https://localhost:8080/"
        }
      },
      "outputs": [
        {
          "output_type": "stream",
          "name": "stdout",
          "text": [
            "Status =  OptimizationStatus.OPTIMAL\n",
            "Solution value  = 3290.00\n",
            "\n",
            "Solution:\n",
            "x_1 = 0.00\n",
            "x_2 = 1.00\n",
            "x_3 = 1.00\n",
            "x_4 = 0.00\n",
            "x_5 = 1.00\n",
            "x_6 = 0.00\n",
            "x_7 = 0.00\n",
            "x_8 = 0.00\n",
            "x_9 = 0.00\n",
            "x_10 = 0.00\n",
            "x_11 = 1.00\n"
          ]
        }
      ],
      "source": [
        "solve(model)"
      ]
    }
  ],
  "metadata": {
    "colab": {
      "provenance": []
    },
    "kernelspec": {
      "display_name": "Python 3",
      "name": "python3"
    },
    "language_info": {
      "codemirror_mode": {
        "name": "ipython",
        "version": 3
      },
      "file_extension": ".py",
      "mimetype": "text/x-python",
      "name": "python",
      "nbconvert_exporter": "python",
      "pygments_lexer": "ipython3",
      "version": "3.8.10"
    }
  },
  "nbformat": 4,
  "nbformat_minor": 0
}