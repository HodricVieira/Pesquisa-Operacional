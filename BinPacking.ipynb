{
  "nbformat": 4,
  "nbformat_minor": 0,
  "metadata": {
    "colab": {
      "provenance": [],
      "collapsed_sections": [
        "18u4P6_fjHTa"
      ]
    },
    "kernelspec": {
      "name": "python3",
      "display_name": "Python 3"
    },
    "language_info": {
      "name": "python"
    }
  },
  "cells": [
    {
      "cell_type": "markdown",
      "source": [
        "# Aula prática: Bin Packing\n"
      ],
      "metadata": {
        "id": "KkkfGB7mizn4"
      }
    },
    {
      "cell_type": "markdown",
      "source": [
        "## Exercício 1\n"
      ],
      "metadata": {
        "id": "6Pq0qYFUi66C"
      }
    },
    {
      "cell_type": "markdown",
      "source": [
        "### Descrição do problema\n",
        "Uma faculdade quer agendar as provas de 6 disciplinas. Existe uma regra que proíbe que o mesmo aluno tenha que fazer mais de uma prova por dia. A tabela abaixo mostra quais alunos (identificados por números) vão fazer a prova de cada disciplina. Por exemplo, A e B não podem ser agendadas no mesmo dia por causa do aluno 1. Já B e C poderiam ser agendadas no mesmo dia, pois nenhum aluno vai fazer essas duas provas.\n",
        "\n",
        "| Disciplina | Alunos |\n",
        "|:---:|:---:|\n",
        "| A | 1, 2, 3, 4 |\n",
        "| B | 1, 5 |\n",
        "| C | 3, 6, 7 |\n",
        "| D | 5, 7 |\n",
        "| E | 2, 7 |\n",
        "| F | 4, 5 |\n",
        "\n",
        "Crie um modelo de PLI para agendar essas provas no menor número de dias possível.\n",
        "**Dica: baseie-se no modelo do problema de empacotamento de caixas.**\n"
      ],
      "metadata": {
        "id": "18u4P6_fjHTa"
      }
    },
    {
      "cell_type": "markdown",
      "source": [
        "### Resolução"
      ],
      "metadata": {
        "id": "EW2_LyQlkB9Y"
      }
    },
    {
      "cell_type": "code",
      "source": [
        "# instalação e importação do pacote mip\n",
        "%pip install mip\n",
        "from mip import *"
      ],
      "metadata": {
        "colab": {
          "base_uri": "https://localhost:8080/"
        },
        "id": "7Iy3s87SogGc",
        "outputId": "188663d0-deaa-4aee-c050-76ddf290e157"
      },
      "execution_count": null,
      "outputs": [
        {
          "output_type": "stream",
          "name": "stdout",
          "text": [
            "Requirement already satisfied: mip in /usr/local/lib/python3.10/dist-packages (1.15.0)\n",
            "Requirement already satisfied: cffi==1.15.* in /usr/local/lib/python3.10/dist-packages (from mip) (1.15.1)\n",
            "Requirement already satisfied: pycparser in /usr/local/lib/python3.10/dist-packages (from cffi==1.15.*->mip) (2.21)\n"
          ]
        }
      ]
    },
    {
      "cell_type": "code",
      "execution_count": null,
      "metadata": {
        "id": "UToKjaulioTm"
      },
      "outputs": [],
      "source": [
        "# funcões usadas posteriormente:\n",
        "model = Model(sense=MINIMIZE, solver_name=CBC)\n",
        "\n",
        "x = [[model.add_var(var_type=BINARY, name= f\"x_{i}{j}\") for i in range(6)] for j in range(6)] # dia / prova\n",
        "y = [model.add_var(var_type=BINARY, name= f\"y_{i}\") for i in range(6)] # dias possveis\n",
        "\n",
        "model.objective = xsum(y[i] for i in range(6))\n",
        "\n",
        "for i in range (6):\n",
        "    model += xsum(x[i][j] for j in range (6)) == 1\n",
        "\n",
        "for i in range (6):\n",
        "    model += xsum(x[j][i] for j in range (6)) <= 6*y[i]\n",
        "\n",
        "# restriçoes devido ao aluno\n",
        "for i in range (6):\n",
        "  model += x[0][i] + x[1][i] <= 1 # aluno 1\n",
        "\n",
        "for i in range (6):\n",
        "  model += x[0][i] + x[4][i] <= 1 # aluno 2\n",
        "\n",
        "for i in range (6):\n",
        "  model += x[0][i] + x[2][i] <= 1 # aluno 3\n",
        "\n",
        "for i in range (6):\n",
        "  model += x[0][i] + x[5][i] <= 1 # aluno 4\n",
        "\n",
        "for i in range (6):\n",
        "  model += x[1][i] + x[5][i] <= 1 # aluno 5\n",
        "\n",
        "for i in range (6):\n",
        "  model += x[2][i] <= 1 # aluno 6\n",
        "\n",
        "for i in range (6):\n",
        "  model += x[2][i] + x[3][i] + x[4][i] <= y[i] # aluno 7\n",
        "\n",
        "\n",
        "# resolve o modelo e mostra os valores das variáveis\n",
        "def solve(model):\n",
        "  status = model.optimize()\n",
        "\n",
        "  print(\"Status = \", status)\n",
        "  if status != OptimizationStatus.OPTIMAL:\n",
        "    return\n",
        "\n",
        "  print(f\"Solution value  = {model.objective_value:.2f}\\n\")\n",
        "\n",
        "  print(\"Solution:\")\n",
        "  for v in model.vars:\n",
        "    if v.x > 0.001:\n",
        "      print(f\"{v.name} = {v.x:.2f}\")\n",
        "\n",
        "\n",
        "# salva modelo em arquivo lp, e mostra o conteúdo\n",
        "def save(model, filename):\n",
        "  model.write(filename) # salva modelo em arquivo\n",
        "  with open(filename, \"r\") as f: # lê e exibe conteúdo do arquivo\n",
        "    print(f.read())"
      ]
    },
    {
      "cell_type": "code",
      "source": [
        "model = # implementar modelo\n",
        "\n",
        "save(model, \"model.lp\")"
      ],
      "metadata": {
        "id": "zL3qpuLbkFDK",
        "colab": {
          "base_uri": "https://localhost:8080/",
          "height": 140
        },
        "outputId": "c11869e8-2137-4e0c-ae11-792bfba869ae"
      },
      "execution_count": null,
      "outputs": [
        {
          "output_type": "error",
          "ename": "SyntaxError",
          "evalue": "ignored",
          "traceback": [
            "\u001b[0;36m  File \u001b[0;32m\"<ipython-input-8-2cf8e580e546>\"\u001b[0;36m, line \u001b[0;32m1\u001b[0m\n\u001b[0;31m    model = # implementar modelo\u001b[0m\n\u001b[0m            ^\u001b[0m\n\u001b[0;31mSyntaxError\u001b[0m\u001b[0;31m:\u001b[0m invalid syntax\n"
          ]
        }
      ]
    },
    {
      "cell_type": "code",
      "source": [
        "solve(model)"
      ],
      "metadata": {
        "id": "hpkM_kZ1qthr",
        "colab": {
          "base_uri": "https://localhost:8080/"
        },
        "outputId": "1fc14ff7-b01c-4c5b-d792-b432b9e4e154"
      },
      "execution_count": null,
      "outputs": [
        {
          "output_type": "stream",
          "name": "stdout",
          "text": [
            "Status =  OptimizationStatus.OPTIMAL\n",
            "Solution value  = 3.00\n",
            "\n",
            "Solution:\n",
            "x_00 = 1.00\n",
            "x_31 = 1.00\n",
            "x_32 = 1.00\n",
            "x_03 = 1.00\n",
            "x_14 = 1.00\n",
            "x_15 = 1.00\n",
            "y_0 = 1.00\n",
            "y_1 = 1.00\n",
            "y_3 = 1.00\n"
          ]
        }
      ]
    }
  ]
}